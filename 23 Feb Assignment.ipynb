{
 "cells": [
  {
   "cell_type": "code",
   "execution_count": 6,
   "id": "58372fd9-c239-4363-9637-087775b16210",
   "metadata": {},
   "outputs": [],
   "source": [
    "# Q1. Ans:-"
   ]
  },
  {
   "cell_type": "code",
   "execution_count": 7,
   "id": "5bceeb8b-8a7a-4edd-920f-ae4c9b667587",
   "metadata": {},
   "outputs": [
    {
     "name": "stdout",
     "output_type": "stream",
     "text": [
      "Requirement already satisfied: pandas in /opt/conda/lib/python3.10/site-packages (1.5.2)\n",
      "Requirement already satisfied: python-dateutil>=2.8.1 in /opt/conda/lib/python3.10/site-packages (from pandas) (2.8.2)\n",
      "Requirement already satisfied: pytz>=2020.1 in /opt/conda/lib/python3.10/site-packages (from pandas) (2022.6)\n",
      "Requirement already satisfied: numpy>=1.21.0 in /opt/conda/lib/python3.10/site-packages (from pandas) (1.23.5)\n",
      "Requirement already satisfied: six>=1.5 in /opt/conda/lib/python3.10/site-packages (from python-dateutil>=2.8.1->pandas) (1.16.0)\n",
      "Note: you may need to restart the kernel to use updated packages.\n"
     ]
    }
   ],
   "source": [
    "pip install pandas"
   ]
  },
  {
   "cell_type": "code",
   "execution_count": 4,
   "id": "047596d7-d679-4ced-bcf7-0e1442f1e5c9",
   "metadata": {},
   "outputs": [
    {
     "name": "stdout",
     "output_type": "stream",
     "text": [
      "0     4\n",
      "1     8\n",
      "2    15\n",
      "3    16\n",
      "4    23\n",
      "5    42\n",
      "dtype: int64\n"
     ]
    }
   ],
   "source": [
    "import pandas as pd\n",
    "data=(4,8,15,16,23,42)\n",
    "series=pd.Series(data)\n",
    "print(series)\n"
   ]
  },
  {
   "cell_type": "code",
   "execution_count": 5,
   "id": "c20aaa21-accd-49d5-875d-0a88efc74048",
   "metadata": {},
   "outputs": [],
   "source": [
    "# Q2. Ans:-"
   ]
  },
  {
   "cell_type": "code",
   "execution_count": 7,
   "id": "1b7cc988-a640-4c0f-abe1-ed4bec357c11",
   "metadata": {},
   "outputs": [
    {
     "name": "stdout",
     "output_type": "stream",
     "text": [
      "0     1\n",
      "1     2\n",
      "2     3\n",
      "3     4\n",
      "4     5\n",
      "5     6\n",
      "6     7\n",
      "7     8\n",
      "8     9\n",
      "9    10\n",
      "dtype: int64\n"
     ]
    }
   ],
   "source": [
    "my_list=[1,2,3,4,5,6,7,8,9,10]\n",
    "my_series=pd.Series(my_list)\n",
    "print(my_series)"
   ]
  },
  {
   "cell_type": "code",
   "execution_count": 8,
   "id": "c1db4966-2abb-4ca5-8cf3-243a6f95edd6",
   "metadata": {},
   "outputs": [],
   "source": [
    "# Q3. Ans:-"
   ]
  },
  {
   "cell_type": "code",
   "execution_count": 9,
   "id": "cfb6474b-e391-4208-84db-79c59b6508d0",
   "metadata": {},
   "outputs": [
    {
     "name": "stdout",
     "output_type": "stream",
     "text": [
      "     Name  Age  Gender\n",
      "0   Alice   25  Female\n",
      "1     Bob   30    Male\n",
      "2  Claire   27  Female\n"
     ]
    }
   ],
   "source": [
    "data={'Name':['Alice','Bob','Claire'],\n",
    "      'Age':[25,30,27],\n",
    "      'Gender':['Female','Male','Female']}\n",
    "my_dataframe=pd.DataFrame(data)\n",
    "print(my_dataframe)\n"
   ]
  },
  {
   "cell_type": "code",
   "execution_count": 10,
   "id": "b08ad392-cf6d-4aa9-99a1-47f55a00c75d",
   "metadata": {},
   "outputs": [],
   "source": [
    "# Q4 Ans:-"
   ]
  },
  {
   "cell_type": "code",
   "execution_count": 14,
   "id": "92bc9834-0c20-40d5-9e3e-6836aea8cb79",
   "metadata": {},
   "outputs": [
    {
     "name": "stdout",
     "output_type": "stream",
     "text": [
      "dataframe:\n",
      "    height  weight  age\n",
      "0     170      70   30\n",
      "1     180      75   35\n",
      "2     175      80   40\n"
     ]
    }
   ],
   "source": [
    "'''In pandas, a DataFrame is a two-dimensional, size-mutable, tabular data structure with rows and columns, similar to a spreadsheet or SQL table. It is a primary data structure used in pandas for data manipulation, analysis, and cleaning tasks. A DataFrame is essentially a collection of Series objects, where each column of the DataFrame is a Series.\n",
    "\n",
    "The main difference between a DataFrame and a Series is that a DataFrame can store multiple columns of data, while a Series stores only a single column of data. In other words, a DataFrame is a collection of Series that share the same index.\n",
    "\n",
    "Here's an example to illustrate the difference between a DataFrame and a Series. Let's say we have data on the height, weight, and age of three individuals: '''\n",
    "\n",
    "\n",
    "import pandas as pd\n",
    "data = {'height': [170, 180, 175],\n",
    "        'weight': [70, 75, 80],\n",
    "        'age': [30, 35, 40]}\n",
    "\n",
    "dataframe = pd.DataFrame(data)\n",
    "\n",
    "height_series = pd.Series(data['height'])\n",
    "print('dataframe:\\n',dataframe)\n"
   ]
  },
  {
   "cell_type": "code",
   "execution_count": 15,
   "id": "2c2803db-b828-4126-a843-edaf064d1131",
   "metadata": {},
   "outputs": [
    {
     "name": "stdout",
     "output_type": "stream",
     "text": [
      "series:\n",
      " 0    170\n",
      "1    180\n",
      "2    175\n",
      "dtype: int64\n"
     ]
    }
   ],
   "source": [
    "print('series:\\n',height_series)"
   ]
  },
  {
   "cell_type": "code",
   "execution_count": 19,
   "id": "7db94cf2-2619-4d5a-9c78-94c01b43c059",
   "metadata": {},
   "outputs": [],
   "source": [
    "# Q5 Ans:-"
   ]
  },
  {
   "cell_type": "code",
   "execution_count": 20,
   "id": "8fe5437d-a8cf-4018-b97e-e6cae1981c6d",
   "metadata": {},
   "outputs": [],
   "source": [
    "#  1.head() and tail(): to display the first or last n rows of a DataFrame, respectively.\n",
    "\n",
    "#   2.info(): to display information about the DataFrame, such as the data types of each column and the number of non-null values.\n",
    "\n",
    "#   3.describe(): to display statistical summary of the DataFrame, such as count, mean, standard deviation, minimum, maximum and percentiles of the numeric columns.\n",
    "\n",
    "#   4.drop(): to remove rows or columns from the DataFrame.\n",
    "\n",
    "#   5.fillna(): to replace missing values in the DataFrame with a specified value or a calculated value.\n",
    "\n",
    "#   6.groupby(): to group the DataFrame by one or more columns and perform aggregate functions on each group.\n",
    "\n",
    "#   7.sort_values(): to sort the DataFrame by one or more columns.\n",
    "\n",
    "#   8.merge(): to combine two DataFrames based on a common column.\n",
    "\n",
    "#   9.pivot_table(): to create a pivot table from the DataFrame. '''"
   ]
  },
  {
   "cell_type": "code",
   "execution_count": 21,
   "id": "0b5a489c-9d7b-43bd-97df-e8e562fb5ebb",
   "metadata": {},
   "outputs": [],
   "source": [
    "# Q6 Ans:-"
   ]
  },
  {
   "cell_type": "code",
   "execution_count": 23,
   "id": "21e0a1a6-3d24-423f-9db8-8f3dc65da80f",
   "metadata": {},
   "outputs": [],
   "source": [
    "# In pandas, both Series and DataFrame are mutable in nature. This means that we can change the values in a Series or DataFrame after they have been created. For example, we can add or delete rows or columns, update values in a DataFrame, or modify values in a Series.\n",
    "\n",
    "#  On the other hand, Panel is a three-dimensional data structure in pandas which has been deprecated since version 0.25.0. As of pandas version 1.0.0, the recommended way to handle three-dimensional data is to use MultiIndex in DataFrame or xarray package. Therefore, Panel is not relevant for current versions of pandas.\n",
    "    "
   ]
  },
  {
   "cell_type": "code",
   "execution_count": 24,
   "id": "d3108cb2-01e2-4a13-b23b-fdc288a30a29",
   "metadata": {},
   "outputs": [],
   "source": [
    "# Q7 Ans:-"
   ]
  },
  {
   "cell_type": "code",
   "execution_count": 25,
   "id": "a22cd854-d996-4763-82f2-c38fef9abb6b",
   "metadata": {},
   "outputs": [
    {
     "name": "stdout",
     "output_type": "stream",
     "text": [
      "     Name  Age Country\n",
      "0  Mahesh   21   India\n",
      "1    Mahi   22      UK\n",
      "2    Maya   20  Canada\n"
     ]
    }
   ],
   "source": [
    "# lets Create three series \n",
    "name=pd.Series(['Mahesh','Mahi','Maya'])\n",
    "age=pd.Series([21,22,20])\n",
    "country=pd.Series(['India','UK','Canada'])\n",
    "\n",
    "# lets create Dataframe\n",
    "dataframe={'Name':name,'Age':age,'Country':country}\n",
    "df=pd.DataFrame(dataframe)\n",
    "print(df)"
   ]
  },
  {
   "cell_type": "code",
   "execution_count": null,
   "id": "8d4b6968-bcc9-47ea-9812-ac23ea12fcba",
   "metadata": {},
   "outputs": [],
   "source": []
  }
 ],
 "metadata": {
  "kernelspec": {
   "display_name": "Python 3 (ipykernel)",
   "language": "python",
   "name": "python3"
  },
  "language_info": {
   "codemirror_mode": {
    "name": "ipython",
    "version": 3
   },
   "file_extension": ".py",
   "mimetype": "text/x-python",
   "name": "python",
   "nbconvert_exporter": "python",
   "pygments_lexer": "ipython3",
   "version": "3.10.8"
  }
 },
 "nbformat": 4,
 "nbformat_minor": 5
}
